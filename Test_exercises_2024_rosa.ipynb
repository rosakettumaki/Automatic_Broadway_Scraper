{
 "cells": [
  {
   "cell_type": "code",
   "execution_count": 2,
   "id": "85e5e11b-c06e-4aa1-ac26-5feeca88e186",
   "metadata": {},
   "outputs": [
    {
     "data": {
      "text/html": [
       "<div>\n",
       "<style scoped>\n",
       "    .dataframe tbody tr th:only-of-type {\n",
       "        vertical-align: middle;\n",
       "    }\n",
       "\n",
       "    .dataframe tbody tr th {\n",
       "        vertical-align: top;\n",
       "    }\n",
       "\n",
       "    .dataframe thead th {\n",
       "        text-align: right;\n",
       "    }\n",
       "</style>\n",
       "<table border=\"1\" class=\"dataframe\">\n",
       "  <thead>\n",
       "    <tr style=\"text-align: right;\">\n",
       "      <th></th>\n",
       "      <th>Name</th>\n",
       "      <th>Age</th>\n",
       "      <th>City</th>\n",
       "      <th>Salary</th>\n",
       "      <th>Department</th>\n",
       "    </tr>\n",
       "  </thead>\n",
       "  <tbody>\n",
       "    <tr>\n",
       "      <th>0</th>\n",
       "      <td>Alice</td>\n",
       "      <td>25</td>\n",
       "      <td>New York</td>\n",
       "      <td>70000</td>\n",
       "      <td>HR</td>\n",
       "    </tr>\n",
       "    <tr>\n",
       "      <th>1</th>\n",
       "      <td>Bob</td>\n",
       "      <td>34</td>\n",
       "      <td>Los Angeles</td>\n",
       "      <td>80000</td>\n",
       "      <td>IT</td>\n",
       "    </tr>\n",
       "    <tr>\n",
       "      <th>2</th>\n",
       "      <td>Charlie</td>\n",
       "      <td>29</td>\n",
       "      <td>Chicago</td>\n",
       "      <td>55000</td>\n",
       "      <td>Finance</td>\n",
       "    </tr>\n",
       "    <tr>\n",
       "      <th>3</th>\n",
       "      <td>David</td>\n",
       "      <td>42</td>\n",
       "      <td>New York</td>\n",
       "      <td>120000</td>\n",
       "      <td>IT</td>\n",
       "    </tr>\n",
       "    <tr>\n",
       "      <th>4</th>\n",
       "      <td>Eva</td>\n",
       "      <td>30</td>\n",
       "      <td>Los Angeles</td>\n",
       "      <td>75000</td>\n",
       "      <td>HR</td>\n",
       "    </tr>\n",
       "  </tbody>\n",
       "</table>\n",
       "</div>"
      ],
      "text/plain": [
       "      Name  Age         City  Salary Department\n",
       "0    Alice   25     New York   70000         HR\n",
       "1      Bob   34  Los Angeles   80000         IT\n",
       "2  Charlie   29      Chicago   55000    Finance\n",
       "3    David   42     New York  120000         IT\n",
       "4      Eva   30  Los Angeles   75000         HR"
      ]
     },
     "execution_count": 2,
     "metadata": {},
     "output_type": "execute_result"
    }
   ],
   "source": [
    "import pandas as pd\n",
    "import numpy as np\n",
    "\n",
    "# Create a sample dataset for the test\n",
    "data = {\n",
    "    \"Name\": [\"Alice\", \"Bob\", \"Charlie\", \"David\", \"Eva\", \"Frank\", \"Grace\", \"Helen\", \"Ivan\", \"Judy\", \n",
    "             \"Kyle\", \"Laura\", \"Mona\", \"Nathan\", \"Olivia\"],\n",
    "    \"Age\": [25, 34, 29, 42, 30, 33, 28, 26, 40, 31, 36, 22, 27, 35, 29],\n",
    "    \"City\": [\"New York\", \"Los Angeles\", \"Chicago\", \"New York\", \"Los Angeles\", \"Chicago\", \"New York\", \n",
    "             \"San Francisco\", \"San Francisco\", \"Los Angeles\", \"Chicago\", \"New York\", \"Chicago\", \n",
    "             \"San Francisco\", \"Los Angeles\"],\n",
    "    \"Salary\": [70000, 80000, 55000, 120000, 75000, 64000, 58000, 61000, 97000, 73000, 66000, 52000, 57000, 88000, 68000],\n",
    "    \"Department\": [\"HR\", \"IT\", \"Finance\", \"IT\", \"HR\", \"Finance\", \"HR\", \"IT\", \"Finance\", \"HR\", \n",
    "                   \"IT\", \"Finance\", \"HR\", \"Finance\", \"IT\"]\n",
    "}\n",
    "\n",
    "df = pd.DataFrame(data)\n",
    "df.head()\n",
    "\n",
    "# Display the dataset for the user to see\n",
    "#import ace_tools as tools; tools.display_dataframe_to_user(name=\"Sample Dataset for Pandas Study Test\", dataframe=df)"
   ]
  },
  {
   "cell_type": "code",
   "execution_count": 3,
   "id": "cbe8faca-f375-4329-8571-563c21a45b2c",
   "metadata": {},
   "outputs": [
    {
     "data": {
      "text/plain": [
       "np.float64(72266.66666666667)"
      ]
     },
     "execution_count": 3,
     "metadata": {},
     "output_type": "execute_result"
    }
   ],
   "source": [
    "df['Salary'].mean()"
   ]
  },
  {
   "cell_type": "code",
   "execution_count": 4,
   "id": "2fc19ee1-3ab9-4aa6-87ab-81c62ecb3360",
   "metadata": {},
   "outputs": [
    {
     "data": {
      "text/plain": [
       "Department\n",
       "HR         5\n",
       "IT         5\n",
       "Finance    5\n",
       "Name: count, dtype: int64"
      ]
     },
     "execution_count": 4,
     "metadata": {},
     "output_type": "execute_result"
    }
   ],
   "source": [
    "df['Department'].value_counts()"
   ]
  },
  {
   "cell_type": "code",
   "execution_count": 5,
   "id": "fcaaea87-ab41-441d-9506-46ad89c7124a",
   "metadata": {},
   "outputs": [
    {
     "data": {
      "text/plain": [
       "Name             David\n",
       "Age                 42\n",
       "City          New York\n",
       "Salary          120000\n",
       "Department          IT\n",
       "Name: 3, dtype: object"
      ]
     },
     "execution_count": 5,
     "metadata": {},
     "output_type": "execute_result"
    }
   ],
   "source": [
    "df.loc[df['Salary'].idxmax()]"
   ]
  },
  {
   "cell_type": "code",
   "execution_count": 6,
   "id": "11f7695c-6a6a-4884-a4dd-aa828e18b1a1",
   "metadata": {},
   "outputs": [
    {
     "data": {
      "text/html": [
       "<div>\n",
       "<style scoped>\n",
       "    .dataframe tbody tr th:only-of-type {\n",
       "        vertical-align: middle;\n",
       "    }\n",
       "\n",
       "    .dataframe tbody tr th {\n",
       "        vertical-align: top;\n",
       "    }\n",
       "\n",
       "    .dataframe thead th {\n",
       "        text-align: right;\n",
       "    }\n",
       "</style>\n",
       "<table border=\"1\" class=\"dataframe\">\n",
       "  <thead>\n",
       "    <tr style=\"text-align: right;\">\n",
       "      <th></th>\n",
       "      <th>Name</th>\n",
       "      <th>Age</th>\n",
       "      <th>City</th>\n",
       "      <th>Salary</th>\n",
       "      <th>Department</th>\n",
       "    </tr>\n",
       "  </thead>\n",
       "  <tbody>\n",
       "    <tr>\n",
       "      <th>3</th>\n",
       "      <td>David</td>\n",
       "      <td>42</td>\n",
       "      <td>New York</td>\n",
       "      <td>120000</td>\n",
       "      <td>IT</td>\n",
       "    </tr>\n",
       "    <tr>\n",
       "      <th>8</th>\n",
       "      <td>Ivan</td>\n",
       "      <td>40</td>\n",
       "      <td>San Francisco</td>\n",
       "      <td>97000</td>\n",
       "      <td>Finance</td>\n",
       "    </tr>\n",
       "    <tr>\n",
       "      <th>13</th>\n",
       "      <td>Nathan</td>\n",
       "      <td>35</td>\n",
       "      <td>San Francisco</td>\n",
       "      <td>88000</td>\n",
       "      <td>Finance</td>\n",
       "    </tr>\n",
       "    <tr>\n",
       "      <th>1</th>\n",
       "      <td>Bob</td>\n",
       "      <td>34</td>\n",
       "      <td>Los Angeles</td>\n",
       "      <td>80000</td>\n",
       "      <td>IT</td>\n",
       "    </tr>\n",
       "    <tr>\n",
       "      <th>4</th>\n",
       "      <td>Eva</td>\n",
       "      <td>30</td>\n",
       "      <td>Los Angeles</td>\n",
       "      <td>75000</td>\n",
       "      <td>HR</td>\n",
       "    </tr>\n",
       "    <tr>\n",
       "      <th>9</th>\n",
       "      <td>Judy</td>\n",
       "      <td>31</td>\n",
       "      <td>Los Angeles</td>\n",
       "      <td>73000</td>\n",
       "      <td>HR</td>\n",
       "    </tr>\n",
       "    <tr>\n",
       "      <th>0</th>\n",
       "      <td>Alice</td>\n",
       "      <td>25</td>\n",
       "      <td>New York</td>\n",
       "      <td>70000</td>\n",
       "      <td>HR</td>\n",
       "    </tr>\n",
       "    <tr>\n",
       "      <th>14</th>\n",
       "      <td>Olivia</td>\n",
       "      <td>29</td>\n",
       "      <td>Los Angeles</td>\n",
       "      <td>68000</td>\n",
       "      <td>IT</td>\n",
       "    </tr>\n",
       "    <tr>\n",
       "      <th>10</th>\n",
       "      <td>Kyle</td>\n",
       "      <td>36</td>\n",
       "      <td>Chicago</td>\n",
       "      <td>66000</td>\n",
       "      <td>IT</td>\n",
       "    </tr>\n",
       "    <tr>\n",
       "      <th>5</th>\n",
       "      <td>Frank</td>\n",
       "      <td>33</td>\n",
       "      <td>Chicago</td>\n",
       "      <td>64000</td>\n",
       "      <td>Finance</td>\n",
       "    </tr>\n",
       "    <tr>\n",
       "      <th>7</th>\n",
       "      <td>Helen</td>\n",
       "      <td>26</td>\n",
       "      <td>San Francisco</td>\n",
       "      <td>61000</td>\n",
       "      <td>IT</td>\n",
       "    </tr>\n",
       "    <tr>\n",
       "      <th>6</th>\n",
       "      <td>Grace</td>\n",
       "      <td>28</td>\n",
       "      <td>New York</td>\n",
       "      <td>58000</td>\n",
       "      <td>HR</td>\n",
       "    </tr>\n",
       "    <tr>\n",
       "      <th>12</th>\n",
       "      <td>Mona</td>\n",
       "      <td>27</td>\n",
       "      <td>Chicago</td>\n",
       "      <td>57000</td>\n",
       "      <td>HR</td>\n",
       "    </tr>\n",
       "    <tr>\n",
       "      <th>2</th>\n",
       "      <td>Charlie</td>\n",
       "      <td>29</td>\n",
       "      <td>Chicago</td>\n",
       "      <td>55000</td>\n",
       "      <td>Finance</td>\n",
       "    </tr>\n",
       "    <tr>\n",
       "      <th>11</th>\n",
       "      <td>Laura</td>\n",
       "      <td>22</td>\n",
       "      <td>New York</td>\n",
       "      <td>52000</td>\n",
       "      <td>Finance</td>\n",
       "    </tr>\n",
       "  </tbody>\n",
       "</table>\n",
       "</div>"
      ],
      "text/plain": [
       "       Name  Age           City  Salary Department\n",
       "3     David   42       New York  120000         IT\n",
       "8      Ivan   40  San Francisco   97000    Finance\n",
       "13   Nathan   35  San Francisco   88000    Finance\n",
       "1       Bob   34    Los Angeles   80000         IT\n",
       "4       Eva   30    Los Angeles   75000         HR\n",
       "9      Judy   31    Los Angeles   73000         HR\n",
       "0     Alice   25       New York   70000         HR\n",
       "14   Olivia   29    Los Angeles   68000         IT\n",
       "10     Kyle   36        Chicago   66000         IT\n",
       "5     Frank   33        Chicago   64000    Finance\n",
       "7     Helen   26  San Francisco   61000         IT\n",
       "6     Grace   28       New York   58000         HR\n",
       "12     Mona   27        Chicago   57000         HR\n",
       "2   Charlie   29        Chicago   55000    Finance\n",
       "11    Laura   22       New York   52000    Finance"
      ]
     },
     "execution_count": 6,
     "metadata": {},
     "output_type": "execute_result"
    }
   ],
   "source": [
    "df.sort_values(by='Salary', ascending=False)"
   ]
  },
  {
   "cell_type": "code",
   "execution_count": 10,
   "id": "646d893e-75ae-4778-b9cf-52c5a790655d",
   "metadata": {},
   "outputs": [
    {
     "data": {
      "text/plain": [
       "7"
      ]
     },
     "execution_count": 10,
     "metadata": {},
     "output_type": "execute_result"
    }
   ],
   "source": [
    "under_30 = df[df['Age'] > 30]\n",
    "len(under_30)"
   ]
  },
  {
   "cell_type": "code",
   "execution_count": 13,
   "id": "ca7e9e2a-3349-4ed7-9f70-099060a4a563",
   "metadata": {},
   "outputs": [
    {
     "name": "stdout",
     "output_type": "stream",
     "text": [
      "       Name  Age           City  Salary Department\n",
      "2   Charlie   29        Chicago   55000    Finance\n",
      "5     Frank   33        Chicago   64000    Finance\n",
      "8      Ivan   40  San Francisco   97000    Finance\n",
      "11    Laura   22       New York   52000    Finance\n",
      "13   Nathan   35  San Francisco   88000    Finance\n"
     ]
    }
   ],
   "source": [
    "finance_ppl = df[df['Department'] == 'Finance']\n",
    "print(finance_ppl)"
   ]
  },
  {
   "cell_type": "code",
   "execution_count": 14,
   "id": "3c780e71-22a4-4630-8c37-e51c3eef37a2",
   "metadata": {},
   "outputs": [
    {
     "data": {
      "text/plain": [
       "np.float64(31.8)"
      ]
     },
     "execution_count": 14,
     "metadata": {},
     "output_type": "execute_result"
    }
   ],
   "source": [
    "finance_ppl['Age'].mean()"
   ]
  },
  {
   "cell_type": "code",
   "execution_count": 18,
   "id": "5dd632c4-99cb-43d0-bc55-cbfae076bf75",
   "metadata": {},
   "outputs": [
    {
     "name": "stdout",
     "output_type": "stream",
     "text": [
      "    Name  Age      City  Salary Department\n",
      "0  Alice   25  New York   70000         HR\n",
      "6  Grace   28  New York   58000         HR\n"
     ]
    }
   ],
   "source": [
    "nyc_hr = df[(df['City'] == 'New York') & (df['Department'] == 'HR')]\n",
    "print(nyc_hr)"
   ]
  },
  {
   "cell_type": "code",
   "execution_count": 21,
   "id": "3b0983ac-3443-4f3d-8352-3651f47e2b55",
   "metadata": {},
   "outputs": [
    {
     "data": {
      "text/plain": [
       "2"
      ]
     },
     "execution_count": 21,
     "metadata": {},
     "output_type": "execute_result"
    }
   ],
   "source": [
    "len(nyc_hr)"
   ]
  },
  {
   "cell_type": "code",
   "execution_count": 25,
   "id": "ea92b5c4-2574-4af9-a7f9-aaeb516a39f8",
   "metadata": {},
   "outputs": [
    {
     "data": {
      "text/plain": [
       "np.int64(242000)"
      ]
     },
     "execution_count": 25,
     "metadata": {},
     "output_type": "execute_result"
    }
   ],
   "source": [
    "chicago_ppl = df[df['City'] == 'Chicago']\n",
    "chicago_ppl['Salary'].sum()"
   ]
  },
  {
   "cell_type": "code",
   "execution_count": 26,
   "id": "da520d44-d81e-4faa-a240-b08bf9178993",
   "metadata": {},
   "outputs": [
    {
     "data": {
      "text/plain": [
       "Department\n",
       "IT         79000.0\n",
       "Finance    71200.0\n",
       "HR         66600.0\n",
       "Name: Salary, dtype: float64"
      ]
     },
     "execution_count": 26,
     "metadata": {},
     "output_type": "execute_result"
    }
   ],
   "source": [
    "df.groupby('Department')['Salary'].mean().sort_values(ascending=False)"
   ]
  },
  {
   "cell_type": "code",
   "execution_count": 27,
   "id": "f86d1f47-76ed-4538-acc6-909801e6f87b",
   "metadata": {},
   "outputs": [
    {
     "data": {
      "text/plain": [
       "6"
      ]
     },
     "execution_count": 27,
     "metadata": {},
     "output_type": "execute_result"
    }
   ],
   "source": [
    "average_salary = df['Salary'].mean()\n",
    "above_average = df[df['Salary'] > average_salary]\n",
    "len(above_average)"
   ]
  },
  {
   "cell_type": "code",
   "execution_count": 28,
   "id": "dabc97a3-913c-4d16-9b90-8b6827a6114c",
   "metadata": {},
   "outputs": [],
   "source": [
    "#NEW DATABASE"
   ]
  },
  {
   "cell_type": "code",
   "execution_count": null,
   "id": "957f85a2-ddbb-4766-9b7b-f37dd8280d49",
   "metadata": {},
   "outputs": [],
   "source": [
    "#import pandas as pd\n",
    "\n",
    "#df = pd.read_csv(\"CSVNNAME.csv\")\n",
    "#df.head()\n"
   ]
  }
 ],
 "metadata": {
  "kernelspec": {
   "display_name": "Python 3 (ipykernel)",
   "language": "python",
   "name": "python3"
  },
  "language_info": {
   "codemirror_mode": {
    "name": "ipython",
    "version": 3
   },
   "file_extension": ".py",
   "mimetype": "text/x-python",
   "name": "python",
   "nbconvert_exporter": "python",
   "pygments_lexer": "ipython3",
   "version": "3.12.7"
  }
 },
 "nbformat": 4,
 "nbformat_minor": 5
}
